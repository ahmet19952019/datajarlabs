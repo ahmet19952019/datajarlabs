{
 "cells": [
  {
   "cell_type": "markdown",
   "metadata": {},
   "source": [
    "**Soru**\n",
    "\n",
    "numpy kütüphanesini kullanarak üreteceğiniz 3 farklı veri aracılığı ile merkezi eğilim ve dağılım ölçümlerini hem yukarıda verilen matematiksel formülle hem de python'da hazır bulunan (built-in) kodlar aracılığıyla analiz edin!!!"
   ]
  },
  {
   "cell_type": "markdown",
   "metadata": {},
   "source": [
    "**Cevap**"
   ]
  },
  {
   "cell_type": "code",
   "execution_count": 19,
   "metadata": {},
   "outputs": [],
   "source": [
    "import pandas as pd\n",
    "import numpy as np"
   ]
  },
  {
   "cell_type": "code",
   "execution_count": 20,
   "metadata": {},
   "outputs": [],
   "source": [
    "obez = pd.DataFrame()\n",
    "obez['Cinsiyet'] = ['Erkek'] * 50 + ['Kiz'] * 50\n",
    "obez['Yukseklik'] = np.append(np.random.normal(175, 10, 50), np.random.normal(160, 5, 50))\n",
    "obez['Agirlik'] = np.append(np.random.normal(80, 20, 50), np.random.normal(55, 15, 50))\n",
    "obez['VKI'] = (obez['Agirlik']/(obez['Yukseklik']/100)**2)"
   ]
  },
  {
   "cell_type": "code",
   "execution_count": 21,
   "metadata": {},
   "outputs": [
    {
     "data": {
      "text/html": [
       "<div>\n",
       "<style scoped>\n",
       "    .dataframe tbody tr th:only-of-type {\n",
       "        vertical-align: middle;\n",
       "    }\n",
       "\n",
       "    .dataframe tbody tr th {\n",
       "        vertical-align: top;\n",
       "    }\n",
       "\n",
       "    .dataframe thead th {\n",
       "        text-align: right;\n",
       "    }\n",
       "</style>\n",
       "<table border=\"1\" class=\"dataframe\">\n",
       "  <thead>\n",
       "    <tr style=\"text-align: right;\">\n",
       "      <th></th>\n",
       "      <th>Cinsiyet</th>\n",
       "      <th>Yukseklik</th>\n",
       "      <th>Agirlik</th>\n",
       "      <th>VKI</th>\n",
       "    </tr>\n",
       "  </thead>\n",
       "  <tbody>\n",
       "    <tr>\n",
       "      <td>0</td>\n",
       "      <td>Erkek</td>\n",
       "      <td>184.277740</td>\n",
       "      <td>79.066828</td>\n",
       "      <td>23.283516</td>\n",
       "    </tr>\n",
       "    <tr>\n",
       "      <td>1</td>\n",
       "      <td>Erkek</td>\n",
       "      <td>172.050992</td>\n",
       "      <td>124.640874</td>\n",
       "      <td>42.106207</td>\n",
       "    </tr>\n",
       "    <tr>\n",
       "      <td>2</td>\n",
       "      <td>Erkek</td>\n",
       "      <td>194.241198</td>\n",
       "      <td>77.367154</td>\n",
       "      <td>20.505668</td>\n",
       "    </tr>\n",
       "    <tr>\n",
       "      <td>3</td>\n",
       "      <td>Erkek</td>\n",
       "      <td>171.332282</td>\n",
       "      <td>74.840267</td>\n",
       "      <td>25.495113</td>\n",
       "    </tr>\n",
       "    <tr>\n",
       "      <td>4</td>\n",
       "      <td>Erkek</td>\n",
       "      <td>172.737869</td>\n",
       "      <td>66.219621</td>\n",
       "      <td>22.192773</td>\n",
       "    </tr>\n",
       "    <tr>\n",
       "      <td>...</td>\n",
       "      <td>...</td>\n",
       "      <td>...</td>\n",
       "      <td>...</td>\n",
       "      <td>...</td>\n",
       "    </tr>\n",
       "    <tr>\n",
       "      <td>95</td>\n",
       "      <td>Kiz</td>\n",
       "      <td>158.976513</td>\n",
       "      <td>47.250443</td>\n",
       "      <td>18.695623</td>\n",
       "    </tr>\n",
       "    <tr>\n",
       "      <td>96</td>\n",
       "      <td>Kiz</td>\n",
       "      <td>165.213540</td>\n",
       "      <td>56.905054</td>\n",
       "      <td>20.847768</td>\n",
       "    </tr>\n",
       "    <tr>\n",
       "      <td>97</td>\n",
       "      <td>Kiz</td>\n",
       "      <td>157.147707</td>\n",
       "      <td>74.162044</td>\n",
       "      <td>30.030710</td>\n",
       "    </tr>\n",
       "    <tr>\n",
       "      <td>98</td>\n",
       "      <td>Kiz</td>\n",
       "      <td>157.460153</td>\n",
       "      <td>70.525802</td>\n",
       "      <td>28.445050</td>\n",
       "    </tr>\n",
       "    <tr>\n",
       "      <td>99</td>\n",
       "      <td>Kiz</td>\n",
       "      <td>170.946976</td>\n",
       "      <td>41.561779</td>\n",
       "      <td>14.222347</td>\n",
       "    </tr>\n",
       "  </tbody>\n",
       "</table>\n",
       "<p>100 rows × 4 columns</p>\n",
       "</div>"
      ],
      "text/plain": [
       "   Cinsiyet   Yukseklik     Agirlik        VKI\n",
       "0     Erkek  184.277740   79.066828  23.283516\n",
       "1     Erkek  172.050992  124.640874  42.106207\n",
       "2     Erkek  194.241198   77.367154  20.505668\n",
       "3     Erkek  171.332282   74.840267  25.495113\n",
       "4     Erkek  172.737869   66.219621  22.192773\n",
       "..      ...         ...         ...        ...\n",
       "95      Kiz  158.976513   47.250443  18.695623\n",
       "96      Kiz  165.213540   56.905054  20.847768\n",
       "97      Kiz  157.147707   74.162044  30.030710\n",
       "98      Kiz  157.460153   70.525802  28.445050\n",
       "99      Kiz  170.946976   41.561779  14.222347\n",
       "\n",
       "[100 rows x 4 columns]"
      ]
     },
     "execution_count": 21,
     "metadata": {},
     "output_type": "execute_result"
    }
   ],
   "source": [
    "obez"
   ]
  },
  {
   "cell_type": "markdown",
   "metadata": {},
   "source": [
    "**Veriyi Genel Olarak Inceleme**"
   ]
  },
  {
   "cell_type": "code",
   "execution_count": 22,
   "metadata": {},
   "outputs": [
    {
     "data": {
      "text/html": [
       "<div>\n",
       "<style scoped>\n",
       "    .dataframe tbody tr th:only-of-type {\n",
       "        vertical-align: middle;\n",
       "    }\n",
       "\n",
       "    .dataframe tbody tr th {\n",
       "        vertical-align: top;\n",
       "    }\n",
       "\n",
       "    .dataframe thead th {\n",
       "        text-align: right;\n",
       "    }\n",
       "</style>\n",
       "<table border=\"1\" class=\"dataframe\">\n",
       "  <thead>\n",
       "    <tr style=\"text-align: right;\">\n",
       "      <th></th>\n",
       "      <th>Yukseklik</th>\n",
       "      <th>Agirlik</th>\n",
       "      <th>VKI</th>\n",
       "    </tr>\n",
       "  </thead>\n",
       "  <tbody>\n",
       "    <tr>\n",
       "      <td>count</td>\n",
       "      <td>100.000000</td>\n",
       "      <td>100.000000</td>\n",
       "      <td>100.000000</td>\n",
       "    </tr>\n",
       "    <tr>\n",
       "      <td>mean</td>\n",
       "      <td>168.507084</td>\n",
       "      <td>67.087229</td>\n",
       "      <td>23.561602</td>\n",
       "    </tr>\n",
       "    <tr>\n",
       "      <td>std</td>\n",
       "      <td>10.789293</td>\n",
       "      <td>21.764475</td>\n",
       "      <td>7.210837</td>\n",
       "    </tr>\n",
       "    <tr>\n",
       "      <td>min</td>\n",
       "      <td>146.971553</td>\n",
       "      <td>28.026063</td>\n",
       "      <td>9.902257</td>\n",
       "    </tr>\n",
       "    <tr>\n",
       "      <td>25%</td>\n",
       "      <td>159.652218</td>\n",
       "      <td>50.772739</td>\n",
       "      <td>18.304416</td>\n",
       "    </tr>\n",
       "    <tr>\n",
       "      <td>50%</td>\n",
       "      <td>166.715351</td>\n",
       "      <td>67.013082</td>\n",
       "      <td>22.678951</td>\n",
       "    </tr>\n",
       "    <tr>\n",
       "      <td>75%</td>\n",
       "      <td>174.983598</td>\n",
       "      <td>79.408270</td>\n",
       "      <td>27.780874</td>\n",
       "    </tr>\n",
       "    <tr>\n",
       "      <td>max</td>\n",
       "      <td>194.241198</td>\n",
       "      <td>140.131492</td>\n",
       "      <td>42.106207</td>\n",
       "    </tr>\n",
       "  </tbody>\n",
       "</table>\n",
       "</div>"
      ],
      "text/plain": [
       "        Yukseklik     Agirlik         VKI\n",
       "count  100.000000  100.000000  100.000000\n",
       "mean   168.507084   67.087229   23.561602\n",
       "std     10.789293   21.764475    7.210837\n",
       "min    146.971553   28.026063    9.902257\n",
       "25%    159.652218   50.772739   18.304416\n",
       "50%    166.715351   67.013082   22.678951\n",
       "75%    174.983598   79.408270   27.780874\n",
       "max    194.241198  140.131492   42.106207"
      ]
     },
     "execution_count": 22,
     "metadata": {},
     "output_type": "execute_result"
    }
   ],
   "source": [
    "obez.describe()"
   ]
  },
  {
   "cell_type": "code",
   "execution_count": 23,
   "metadata": {},
   "outputs": [
    {
     "name": "stdout",
     "output_type": "stream",
     "text": [
      "<class 'pandas.core.frame.DataFrame'>\n",
      "RangeIndex: 100 entries, 0 to 99\n",
      "Data columns (total 4 columns):\n",
      "Cinsiyet     100 non-null object\n",
      "Yukseklik    100 non-null float64\n",
      "Agirlik      100 non-null float64\n",
      "VKI          100 non-null float64\n",
      "dtypes: float64(3), object(1)\n",
      "memory usage: 3.2+ KB\n"
     ]
    }
   ],
   "source": [
    "obez.info()"
   ]
  },
  {
   "cell_type": "code",
   "execution_count": 24,
   "metadata": {},
   "outputs": [
    {
     "data": {
      "text/html": [
       "<div>\n",
       "<style scoped>\n",
       "    .dataframe tbody tr th:only-of-type {\n",
       "        vertical-align: middle;\n",
       "    }\n",
       "\n",
       "    .dataframe tbody tr th {\n",
       "        vertical-align: top;\n",
       "    }\n",
       "\n",
       "    .dataframe thead th {\n",
       "        text-align: right;\n",
       "    }\n",
       "</style>\n",
       "<table border=\"1\" class=\"dataframe\">\n",
       "  <thead>\n",
       "    <tr style=\"text-align: right;\">\n",
       "      <th></th>\n",
       "      <th>Cinsiyet</th>\n",
       "      <th>Yukseklik</th>\n",
       "      <th>Agirlik</th>\n",
       "      <th>VKI</th>\n",
       "    </tr>\n",
       "  </thead>\n",
       "  <tbody>\n",
       "    <tr>\n",
       "      <td>0</td>\n",
       "      <td>Erkek</td>\n",
       "      <td>184.277740</td>\n",
       "      <td>79.066828</td>\n",
       "      <td>23.283516</td>\n",
       "    </tr>\n",
       "    <tr>\n",
       "      <td>1</td>\n",
       "      <td>Erkek</td>\n",
       "      <td>172.050992</td>\n",
       "      <td>124.640874</td>\n",
       "      <td>42.106207</td>\n",
       "    </tr>\n",
       "    <tr>\n",
       "      <td>2</td>\n",
       "      <td>Erkek</td>\n",
       "      <td>194.241198</td>\n",
       "      <td>77.367154</td>\n",
       "      <td>20.505668</td>\n",
       "    </tr>\n",
       "    <tr>\n",
       "      <td>3</td>\n",
       "      <td>Erkek</td>\n",
       "      <td>171.332282</td>\n",
       "      <td>74.840267</td>\n",
       "      <td>25.495113</td>\n",
       "    </tr>\n",
       "    <tr>\n",
       "      <td>4</td>\n",
       "      <td>Erkek</td>\n",
       "      <td>172.737869</td>\n",
       "      <td>66.219621</td>\n",
       "      <td>22.192773</td>\n",
       "    </tr>\n",
       "  </tbody>\n",
       "</table>\n",
       "</div>"
      ],
      "text/plain": [
       "  Cinsiyet   Yukseklik     Agirlik        VKI\n",
       "0    Erkek  184.277740   79.066828  23.283516\n",
       "1    Erkek  172.050992  124.640874  42.106207\n",
       "2    Erkek  194.241198   77.367154  20.505668\n",
       "3    Erkek  171.332282   74.840267  25.495113\n",
       "4    Erkek  172.737869   66.219621  22.192773"
      ]
     },
     "execution_count": 24,
     "metadata": {},
     "output_type": "execute_result"
    }
   ],
   "source": [
    "obez.head()"
   ]
  },
  {
   "cell_type": "markdown",
   "metadata": {},
   "source": [
    "**Merkezi Egilim Olculeri**"
   ]
  },
  {
   "cell_type": "markdown",
   "metadata": {},
   "source": [
    "**Ortalama**"
   ]
  },
  {
   "cell_type": "code",
   "execution_count": 25,
   "metadata": {},
   "outputs": [
    {
     "name": "stdout",
     "output_type": "stream",
     "text": [
      "Yukseklik ortalamasi: 168.5070839579092\n",
      "Agirlik ortalamasi: 67.08722915955572\n",
      "VKI ortalamasi: 23.56160244009309\n"
     ]
    }
   ],
   "source": [
    "print('Yukseklik ortalamasi:', sum(obez ['Yukseklik'])/ len(obez['Yukseklik']))\n",
    "print('Agirlik ortalamasi:', sum(obez ['Agirlik'])/ len(obez['Agirlik']))\n",
    "print('VKI ortalamasi:', sum(obez ['VKI'])/ len(obez['VKI']))"
   ]
  },
  {
   "cell_type": "code",
   "execution_count": 26,
   "metadata": {},
   "outputs": [
    {
     "name": "stdout",
     "output_type": "stream",
     "text": [
      "Yukseklik ortalamasi: 168.50708395790923\n",
      "Agirlik ortalamasi: 67.08722915955573\n",
      "VKI ortalamasi: 23.56160244009309\n"
     ]
    }
   ],
   "source": [
    "print('Yukseklik ortalamasi:', np.mean(obez['Yukseklik']))\n",
    "print('Agirlik ortalamasi:', np.mean(obez['Agirlik']))\n",
    "print('VKI ortalamasi:', np.mean(obez['VKI']))"
   ]
  },
  {
   "cell_type": "code",
   "execution_count": 28,
   "metadata": {},
   "outputs": [
    {
     "data": {
      "text/plain": [
       "168.50708395790923"
      ]
     },
     "execution_count": 28,
     "metadata": {},
     "output_type": "execute_result"
    }
   ],
   "source": [
    "obez.Yukseklik.mean()"
   ]
  },
  {
   "cell_type": "code",
   "execution_count": 29,
   "metadata": {},
   "outputs": [
    {
     "data": {
      "text/plain": [
       "67.08722915955573"
      ]
     },
     "execution_count": 29,
     "metadata": {},
     "output_type": "execute_result"
    }
   ],
   "source": [
    "obez.Agirlik.mean()"
   ]
  },
  {
   "cell_type": "code",
   "execution_count": 30,
   "metadata": {},
   "outputs": [
    {
     "data": {
      "text/plain": [
       "23.56160244009309"
      ]
     },
     "execution_count": 30,
     "metadata": {},
     "output_type": "execute_result"
    }
   ],
   "source": [
    "obez.VKI.mean()"
   ]
  },
  {
   "cell_type": "markdown",
   "metadata": {},
   "source": [
    "**Medyan**"
   ]
  },
  {
   "cell_type": "code",
   "execution_count": 31,
   "metadata": {},
   "outputs": [
    {
     "name": "stdout",
     "output_type": "stream",
     "text": [
      "166.7153514300693\n",
      "67.0130820323671\n",
      "22.678950970745042\n"
     ]
    }
   ],
   "source": [
    "import statistics\n",
    "\n",
    "print(statistics.median(obez['Yukseklik']))\n",
    "print(statistics.median(obez['Agirlik']))\n",
    "print(statistics.median(obez['VKI']))"
   ]
  },
  {
   "cell_type": "code",
   "execution_count": 32,
   "metadata": {},
   "outputs": [
    {
     "name": "stdout",
     "output_type": "stream",
     "text": [
      "166.7153514300693\n",
      "67.0130820323671\n",
      "22.678950970745042\n"
     ]
    }
   ],
   "source": [
    "print(np.median(obez['Yukseklik']))\n",
    "print(np.median(obez['Agirlik']))\n",
    "print(np.median(obez['VKI']))"
   ]
  },
  {
   "cell_type": "code",
   "execution_count": 33,
   "metadata": {},
   "outputs": [
    {
     "data": {
      "text/plain": [
       "166.7153514300693"
      ]
     },
     "execution_count": 33,
     "metadata": {},
     "output_type": "execute_result"
    }
   ],
   "source": [
    "obez.Yukseklik.median()"
   ]
  },
  {
   "cell_type": "code",
   "execution_count": 34,
   "metadata": {},
   "outputs": [
    {
     "data": {
      "text/plain": [
       "67.0130820323671"
      ]
     },
     "execution_count": 34,
     "metadata": {},
     "output_type": "execute_result"
    }
   ],
   "source": [
    "obez.Agirlik.median()"
   ]
  },
  {
   "cell_type": "code",
   "execution_count": 35,
   "metadata": {},
   "outputs": [
    {
     "data": {
      "text/plain": [
       "22.678950970745042"
      ]
     },
     "execution_count": 35,
     "metadata": {},
     "output_type": "execute_result"
    }
   ],
   "source": [
    "obez.VKI.median()"
   ]
  },
  {
   "cell_type": "markdown",
   "metadata": {},
   "source": [
    "**Mod**"
   ]
  },
  {
   "cell_type": "code",
   "execution_count": 11,
   "metadata": {},
   "outputs": [
    {
     "ename": "StatisticsError",
     "evalue": "no unique mode; found 100 equally common values",
     "output_type": "error",
     "traceback": [
      "\u001b[1;31m---------------------------------------------------------------------------\u001b[0m",
      "\u001b[1;31mStatisticsError\u001b[0m                           Traceback (most recent call last)",
      "\u001b[1;32m<ipython-input-11-b301e108c72d>\u001b[0m in \u001b[0;36m<module>\u001b[1;34m\u001b[0m\n\u001b[1;32m----> 1\u001b[1;33m \u001b[0mstatistics\u001b[0m\u001b[1;33m.\u001b[0m\u001b[0mmode\u001b[0m\u001b[1;33m(\u001b[0m\u001b[0mobez\u001b[0m\u001b[1;33m[\u001b[0m\u001b[1;34m'Yukseklik'\u001b[0m\u001b[1;33m]\u001b[0m\u001b[1;33m)\u001b[0m\u001b[1;33m\u001b[0m\u001b[1;33m\u001b[0m\u001b[0m\n\u001b[0m\u001b[0;32m      2\u001b[0m \u001b[0mstatistics\u001b[0m\u001b[1;33m.\u001b[0m\u001b[0mmode\u001b[0m\u001b[1;33m(\u001b[0m\u001b[0mobez\u001b[0m\u001b[1;33m[\u001b[0m\u001b[1;34m'Agirlik'\u001b[0m\u001b[1;33m]\u001b[0m\u001b[1;33m)\u001b[0m\u001b[1;33m\u001b[0m\u001b[1;33m\u001b[0m\u001b[0m\n\u001b[0;32m      3\u001b[0m \u001b[0mstatistics\u001b[0m\u001b[1;33m.\u001b[0m\u001b[0mmode\u001b[0m\u001b[1;33m(\u001b[0m\u001b[0mobez\u001b[0m\u001b[1;33m[\u001b[0m\u001b[1;34m'VKI'\u001b[0m\u001b[1;33m]\u001b[0m\u001b[1;33m)\u001b[0m\u001b[1;33m\u001b[0m\u001b[1;33m\u001b[0m\u001b[0m\n",
      "\u001b[1;32m~\\Anaconda3\\lib\\statistics.py\u001b[0m in \u001b[0;36mmode\u001b[1;34m(data)\u001b[0m\n\u001b[0;32m    504\u001b[0m     \u001b[1;32melif\u001b[0m \u001b[0mtable\u001b[0m\u001b[1;33m:\u001b[0m\u001b[1;33m\u001b[0m\u001b[1;33m\u001b[0m\u001b[0m\n\u001b[0;32m    505\u001b[0m         raise StatisticsError(\n\u001b[1;32m--> 506\u001b[1;33m                 \u001b[1;34m'no unique mode; found %d equally common values'\u001b[0m \u001b[1;33m%\u001b[0m \u001b[0mlen\u001b[0m\u001b[1;33m(\u001b[0m\u001b[0mtable\u001b[0m\u001b[1;33m)\u001b[0m\u001b[1;33m\u001b[0m\u001b[1;33m\u001b[0m\u001b[0m\n\u001b[0m\u001b[0;32m    507\u001b[0m                 )\n\u001b[0;32m    508\u001b[0m     \u001b[1;32melse\u001b[0m\u001b[1;33m:\u001b[0m\u001b[1;33m\u001b[0m\u001b[1;33m\u001b[0m\u001b[0m\n",
      "\u001b[1;31mStatisticsError\u001b[0m: no unique mode; found 100 equally common values"
     ]
    }
   ],
   "source": [
    "statistics.mode(obez['Yukseklik'])\n",
    "statistics.mode(obez['Agirlik'])\n",
    "statistics.mode(obez['VKI'])"
   ]
  },
  {
   "cell_type": "code",
   "execution_count": 14,
   "metadata": {},
   "outputs": [
    {
     "data": {
      "text/plain": [
       "150.26006596623373"
      ]
     },
     "execution_count": 14,
     "metadata": {},
     "output_type": "execute_result"
    }
   ],
   "source": [
    "(values1, counts) = np.unique(obez['Yukseklik'], return_counts=True)\n",
    "ind = np.argmax(counts)\n",
    "values1[ind]"
   ]
  },
  {
   "cell_type": "code",
   "execution_count": 15,
   "metadata": {},
   "outputs": [
    {
     "data": {
      "text/plain": [
       "20.980566841744434"
      ]
     },
     "execution_count": 15,
     "metadata": {},
     "output_type": "execute_result"
    }
   ],
   "source": [
    "(values2, counts) = np.unique(obez['Agirlik'], return_counts=True)\n",
    "ind = np.argmax(counts)\n",
    "values2[ind]"
   ]
  },
  {
   "cell_type": "code",
   "execution_count": 16,
   "metadata": {},
   "outputs": [
    {
     "data": {
      "text/plain": [
       "7.5346153525133595"
      ]
     },
     "execution_count": 16,
     "metadata": {},
     "output_type": "execute_result"
    }
   ],
   "source": [
    "(values3, counts) = np.unique(obez['VKI'], return_counts=True)\n",
    "ind = np.argmax(counts)\n",
    "values3[ind]"
   ]
  },
  {
   "cell_type": "markdown",
   "metadata": {},
   "source": [
    "**Dagilim Olculeri**"
   ]
  },
  {
   "cell_type": "markdown",
   "metadata": {},
   "source": [
    "**Varyans**"
   ]
  },
  {
   "cell_type": "code",
   "execution_count": 43,
   "metadata": {},
   "outputs": [
    {
     "name": "stdout",
     "output_type": "stream",
     "text": [
      "168.50708395790923\n",
      "116.40883460167997\n",
      "115.24474625566317\n",
      "116.40883460167997\n",
      "116.40883460167997\n"
     ]
    }
   ],
   "source": [
    "print(obez.Yukseklik.mean())\n",
    "print (np.var(obez['Yukseklik'], ddof=1))\n",
    "print (np.var(obez['Yukseklik']))\n",
    "print (obez.Yukseklik.var())\n",
    "print(obez['Yukseklik'].var())"
   ]
  },
  {
   "cell_type": "code",
   "execution_count": 46,
   "metadata": {},
   "outputs": [
    {
     "name": "stdout",
     "output_type": "stream",
     "text": [
      "67.08722915955573\n",
      "473.6923747402227\n",
      "473.6923747402227\n"
     ]
    }
   ],
   "source": [
    "print(obez.Agirlik.mean())\n",
    "print (obez.Agirlik.var())\n",
    "print(obez['Agirlik'].var())"
   ]
  },
  {
   "cell_type": "code",
   "execution_count": 47,
   "metadata": {},
   "outputs": [
    {
     "name": "stdout",
     "output_type": "stream",
     "text": [
      "23.56160244009309\n",
      "51.99616606281751\n",
      "51.99616606281751\n"
     ]
    }
   ],
   "source": [
    "print(obez.VKI.mean())\n",
    "print (obez.VKI.var())\n",
    "print(obez['VKI'].var())"
   ]
  },
  {
   "cell_type": "markdown",
   "metadata": {},
   "source": [
    "**Standart Sapma**"
   ]
  },
  {
   "cell_type": "code",
   "execution_count": 48,
   "metadata": {},
   "outputs": [
    {
     "name": "stdout",
     "output_type": "stream",
     "text": [
      "10.789292590419446\n",
      "10.789292590419446\n"
     ]
    }
   ],
   "source": [
    "print (np.std(obez['Yukseklik'], ddof=1))\n",
    "print (obez.Yukseklik.std())"
   ]
  },
  {
   "cell_type": "code",
   "execution_count": 49,
   "metadata": {},
   "outputs": [
    {
     "name": "stdout",
     "output_type": "stream",
     "text": [
      "21.76447506236304\n",
      "21.76447506236304\n"
     ]
    }
   ],
   "source": [
    "print (np.std(obez['Agirlik'], ddof=1))\n",
    "print (obez.Agirlik.std())"
   ]
  },
  {
   "cell_type": "code",
   "execution_count": 50,
   "metadata": {},
   "outputs": [
    {
     "name": "stdout",
     "output_type": "stream",
     "text": [
      "7.21083671031438\n",
      "7.21083671031438\n"
     ]
    }
   ],
   "source": [
    "print (np.std(obez['VKI'], ddof=1))\n",
    "print (obez.VKI.std())"
   ]
  },
  {
   "cell_type": "markdown",
   "metadata": {},
   "source": [
    "**Standart Sapma**"
   ]
  },
  {
   "cell_type": "code",
   "execution_count": 51,
   "metadata": {},
   "outputs": [
    {
     "name": "stdout",
     "output_type": "stream",
     "text": [
      "1.0789292590419446\n",
      "2.176447506236304\n",
      "0.721083671031438\n"
     ]
    }
   ],
   "source": [
    "print (np.std(obez['Yukseklik'] ,ddof=1) / np.sqrt(len(obez['Yukseklik'])))\n",
    "print (np.std(obez['Agirlik'] ,ddof=1) / np.sqrt(len(obez['Agirlik'])))\n",
    "print (np.std(obez['VKI'] ,ddof=1) / np.sqrt(len(obez['VKI'])))"
   ]
  }
 ],
 "metadata": {
  "kernelspec": {
   "display_name": "Python 3",
   "language": "python",
   "name": "python3"
  },
  "language_info": {
   "codemirror_mode": {
    "name": "ipython",
    "version": 3
   },
   "file_extension": ".py",
   "mimetype": "text/x-python",
   "name": "python",
   "nbconvert_exporter": "python",
   "pygments_lexer": "ipython3",
   "version": "3.7.4"
  }
 },
 "nbformat": 4,
 "nbformat_minor": 2
}

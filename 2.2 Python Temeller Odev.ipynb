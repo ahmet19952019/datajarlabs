{
 "cells": [
  {
   "cell_type": "markdown",
   "metadata": {},
   "source": [
    "### Bitcoin Haftalik Kazanc"
   ]
  },
  {
   "cell_type": "code",
   "execution_count": 24,
   "metadata": {},
   "outputs": [
    {
     "name": "stdout",
     "output_type": "stream",
     "text": [
      "Faiz Miktari = 1210.68 \n",
      "\n",
      "Toplam Para = 2210.68 \n",
      "\n",
      "Hafta başında 1000 dolarlık bitcoin aldığımızda günde ortalama % 12 kazançla, bir hafta sonunda 1210.68 dolar kazanırdık.\n"
     ]
    }
   ],
   "source": [
    "anapara = 1000 \n",
    "\n",
    "oran = 12\n",
    "\n",
    "gun = 7\n",
    "\n",
    "toplam = anapara*((1+(oran/100))**gun)\n",
    "\n",
    "faiz_miktari = toplam-anapara\n",
    "\n",
    "metin = \"Hafta başında {} dolarlık bitcoin aldığımızda günde ortalama % {} kazançla, bir hafta sonunda {:.2f} dolar kazanırdık.\"\n",
    "\n",
    "print(\"Faiz Miktari = {:.2f}\".format (faiz_miktari), \"\\n\")\n",
    "\n",
    "print(\"Toplam Para = {:.2f}\".format (toplam), \"\\n\")\n",
    "\n",
    "print(metin.format(anapara, oran, faiz_miktari))"
   ]
  },
  {
   "cell_type": "markdown",
   "metadata": {},
   "source": [
    "### Dosya Adi"
   ]
  },
  {
   "cell_type": "code",
   "execution_count": 26,
   "metadata": {},
   "outputs": [
    {
     "name": "stdout",
     "output_type": "stream",
     "text": [
      "Dosya Adi : kamil\n",
      "kamil.py\n"
     ]
    }
   ],
   "source": [
    "dosya = input('Dosya Adi : ')\n",
    "eklenti = \".py\"\n",
    "print (dosya+eklenti)"
   ]
  }
 ],
 "metadata": {
  "kernelspec": {
   "display_name": "Python 3",
   "language": "python",
   "name": "python3"
  },
  "language_info": {
   "codemirror_mode": {
    "name": "ipython",
    "version": 3
   },
   "file_extension": ".py",
   "mimetype": "text/x-python",
   "name": "python",
   "nbconvert_exporter": "python",
   "pygments_lexer": "ipython3",
   "version": "3.6.5"
  }
 },
 "nbformat": 4,
 "nbformat_minor": 2
}

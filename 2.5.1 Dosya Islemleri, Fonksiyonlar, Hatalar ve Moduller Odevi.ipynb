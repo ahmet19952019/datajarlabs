{
 "cells": [
  {
   "cell_type": "markdown",
   "metadata": {},
   "source": [
    "**Soru-1**\n",
    "\n",
    "Seçeceğiniz herhangi bir şiiri bilgisayarına .txt dsyası olarak kaydedin. Şiirin kaç dizeden oluştuğunu hesaplayın ve başka bir dosyaya her dizenin ilk kelimesini yazdırın."
   ]
  },
  {
   "cell_type": "markdown",
   "metadata": {},
   "source": [
    "**Cevap-1**"
   ]
  },
  {
   "cell_type": "code",
   "execution_count": 1,
   "metadata": {},
   "outputs": [],
   "source": [
    "def dize_uzunlugu (dadi):\n",
    "    with open(dadi) as d:\n",
    "        for i, l in enumerate(d):\n",
    "            pass\n",
    "    return i + 1"
   ]
  },
  {
   "cell_type": "code",
   "execution_count": 5,
   "metadata": {},
   "outputs": [
    {
     "name": "stdout",
     "output_type": "stream",
     "text": [
      "9\n"
     ]
    }
   ],
   "source": [
    "print(dize_uzunlugu(\"beklenen.txt\"))"
   ]
  },
  {
   "cell_type": "code",
   "execution_count": 5,
   "metadata": {},
   "outputs": [
    {
     "name": "stdout",
     "output_type": "stream",
     "text": [
      "N\n",
      "e\n",
      "N\n",
      "e\n",
      "N\n",
      "e\n",
      "S\n",
      "e\n",
      "n\n",
      "i\n",
      "G\n",
      "e\n",
      "ç\n",
      "t\n",
      "i\n",
      "Y\n",
      "o\n",
      "k\n",
      "l\n",
      "u\n",
      "ğ\n",
      "u\n",
      "n\n",
      "d\n",
      "a\n",
      "B\n",
      "ı\n",
      "r\n",
      "a\n",
      "k\n",
      "G\n",
      "e\n",
      "l\n",
      "m\n",
      "e\n",
      ",\n"
     ]
    }
   ],
   "source": [
    "f = open(\"beklenen.txt\", \"r\")\n",
    "\n",
    "g = open(\"beklenen_ilk.txt\", 'w')\n",
    "\n",
    "lines = []\n",
    "\n",
    "for line in f:\n",
    "    lines.append(line)\n",
    "    \n",
    "for line in lines:\n",
    "    words_in_line = line.split()\n",
    "    g.write(words_in_line[0])\n",
    "f.close()\n",
    "\n",
    "with open(\"beklenen_ilk.txt\", \"r\") as f:\n",
    "    kelimeler = f.read()\n",
    "\n",
    "for kelime in kelimeler:\n",
    "    print(kelime)"
   ]
  },
  {
   "cell_type": "markdown",
   "metadata": {},
   "source": [
    "**Soru-2**\n",
    "\n",
    "Parametre olarak girilen bir sayının asal sayı olup olmadığını belirten bir fonksiyon yazın."
   ]
  },
  {
   "cell_type": "markdown",
   "metadata": {},
   "source": [
    "**Cevap-2**"
   ]
  },
  {
   "cell_type": "code",
   "execution_count": 8,
   "metadata": {},
   "outputs": [],
   "source": [
    "def asal (x):\n",
    "    if x > 1:\n",
    "        for y in range(2,x):\n",
    "            if (x % y) == 0:\n",
    "                print(x,\"asal sayi degildir\")\n",
    "                print(y,\"defa\",num//i, num)\n",
    "                break\n",
    "        else:\n",
    "            print(x,\"asal sayidir\")\n",
    "    else:\n",
    "        print(x,\"asal sayi degildir\")\n",
    "    \n",
    "    return"
   ]
  },
  {
   "cell_type": "code",
   "execution_count": 9,
   "metadata": {},
   "outputs": [
    {
     "name": "stdout",
     "output_type": "stream",
     "text": [
      "61 asal sayidir\n"
     ]
    }
   ],
   "source": [
    "asal(61)"
   ]
  },
  {
   "cell_type": "markdown",
   "metadata": {},
   "source": [
    "**Soru-3**\n",
    "\n",
    "Parametre olarak girilecek listenin elemanlarını yeni bir listeye her değer sadece bir kere geçecek şekilde aktaran bir fonksiyon yazın. Normalde bu işlemi set() komutu ile yapabiliriz ama bu seferlik bu komutu kullanmayalım."
   ]
  },
  {
   "cell_type": "markdown",
   "metadata": {},
   "source": [
    "**Cevap-3**"
   ]
  },
  {
   "cell_type": "code",
   "execution_count": 11,
   "metadata": {},
   "outputs": [
    {
     "data": {
      "text/plain": [
       "[1, 2, 3, 4, 5, 6, 7, 8, 9]"
      ]
     },
     "execution_count": 11,
     "metadata": {},
     "output_type": "execute_result"
    }
   ],
   "source": [
    "karmasikliste = ([1,2,2,3,3,4,4, 5, 5, 6, 6, 7, 7, 8, 8, 9, 9])\n",
    "\n",
    "def teklist(x):\n",
    "    return list(dict.fromkeys(x))\n",
    "\n",
    "teklist(karmasikliste)"
   ]
  },
  {
   "cell_type": "markdown",
   "metadata": {},
   "source": [
    "**Soru-4**\n",
    "\n",
    "Zaman ile ilgili modüllerden birisini import ederek, parametre olarak doğum tarihi alan ve yaşı döndüren bir fonksiyon yazınız."
   ]
  },
  {
   "cell_type": "markdown",
   "metadata": {},
   "source": [
    "**Cevap-4**"
   ]
  },
  {
   "cell_type": "code",
   "execution_count": 19,
   "metadata": {},
   "outputs": [
    {
     "name": "stdout",
     "output_type": "stream",
     "text": [
      "37 yasindasin.\n"
     ]
    }
   ],
   "source": [
    "from datetime import date\n",
    "\n",
    "def calculate_age(born):\n",
    "    today = date.today()\n",
    "    return today.year - born.year - ((today.month, today.day) < (born.month, born.day))\n",
    "      \n",
    "print(calculate_age(date(1982, 4, 16)), \"yasindasin.\")"
   ]
  }
 ],
 "metadata": {
  "kernelspec": {
   "display_name": "Python 3",
   "language": "python",
   "name": "python3"
  },
  "language_info": {
   "codemirror_mode": {
    "name": "ipython",
    "version": 3
   },
   "file_extension": ".py",
   "mimetype": "text/x-python",
   "name": "python",
   "nbconvert_exporter": "python",
   "pygments_lexer": "ipython3",
   "version": "3.6.5"
  }
 },
 "nbformat": 4,
 "nbformat_minor": 2
}

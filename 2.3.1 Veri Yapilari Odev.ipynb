{
 "cells": [
  {
   "cell_type": "markdown",
   "metadata": {},
   "source": [
    "**Cevap-1**"
   ]
  },
  {
   "cell_type": "code",
   "execution_count": 3,
   "metadata": {},
   "outputs": [
    {
     "name": "stdout",
     "output_type": "stream",
     "text": [
      "{'1': 'Pazartesi', '2': 'Sali', '3': 'Carsamba', '4': 'Persembe', '5': 'Cuma', '6': 'Cumartesi', '7': 'Pazar'}\n"
     ]
    }
   ],
   "source": [
    "gunler = {\"1\":\"Pazartesi\", \"2\":\"Sali\", \"3\":\"Carsamba\", \"4\":\"Persembe\", \"5\":\"Cuma\", \"6\":\"Cumartesi\", \"7\":\"Pazar\"}\n",
    "\n",
    "print(gunler)"
   ]
  },
  {
   "cell_type": "code",
   "execution_count": 4,
   "metadata": {},
   "outputs": [
    {
     "name": "stdout",
     "output_type": "stream",
     "text": [
      "Silinecek gunu giriniz: 24\n",
      "{'1': 'Pazartesi', '3': 'Carsamba', '5': 'Cuma', '6': 'Cumartesi', '7': 'Pazar'}\n"
     ]
    }
   ],
   "source": [
    "silinecekgun = input (\"Silinecek gunu giriniz: \")\n",
    "\n",
    "del gunler [silinecekgun[0]]\n",
    "del gunler [silinecekgun[1]]\n",
    "\n",
    "print(gunler)"
   ]
  },
  {
   "cell_type": "markdown",
   "metadata": {},
   "source": [
    "**Cevap-2**"
   ]
  },
  {
   "cell_type": "code",
   "execution_count": 10,
   "metadata": {},
   "outputs": [
    {
     "name": "stdout",
     "output_type": "stream",
     "text": [
      "[['Ocak', 31], ['Subat', 28], ['Mart', 31], ['Nisan', 30], ['Mayis', 31], ['Haziran', 30], ['Temmuz', 31], ['Agustos', 30], ['Eylul', 30], ['Ekim', 31], ['Kasim', 30], ['Aralik', 31]]\n"
     ]
    }
   ],
   "source": [
    "aygun = [['Ocak', 31], ['Subat', 28], ['Mart', 31], ['Nisan', 30], ['Mayis', 31], ['Haziran', 30], \n",
    "         ['Temmuz', 31], ['Agustos', 30], ['Eylul', 30], ['Ekim', 31], ['Kasim', 30], ['Aralik', 31]]\n",
    "\n",
    "print(aygun)"
   ]
  },
  {
   "cell_type": "markdown",
   "metadata": {},
   "source": [
    "**Cevap-3**"
   ]
  },
  {
   "cell_type": "code",
   "execution_count": 20,
   "metadata": {},
   "outputs": [
    {
     "name": "stdout",
     "output_type": "stream",
     "text": [
      "[['Ocak', 'Subat', 'Mart', 'Nisan', 'Mayis', 'Haziran', 'Temmuz', 'Agustos', 'Eylul', 'Ekim', 'Kasim', 'Aralik'], [31, 28, 31, 30, 31, 30, 31, 30, 30, 31, 30, 31]]\n"
     ]
    }
   ],
   "source": [
    "aygun_ayri = [[aygun[0][0], aygun[1][0], aygun[2][0], aygun[3][0], aygun[4][0], aygun[5][0], \n",
    "            aygun[6][0], aygun[7][0], aygun[8][0], aygun[9][0], aygun[10][0], aygun[11][0]], \n",
    "           [aygun[0][1], aygun[1][1], aygun[2][1], aygun[3][1], aygun[4][1], aygun[5][1],\n",
    "           aygun[6][1], aygun[7][1],aygun[8][1], aygun[9][1], aygun[10][1], aygun[11][1]]]\n",
    "               \n",
    "print (aygun_ayri)"
   ]
  },
  {
   "cell_type": "markdown",
   "metadata": {},
   "source": [
    "**Cevap-4**"
   ]
  },
  {
   "cell_type": "code",
   "execution_count": 21,
   "metadata": {},
   "outputs": [],
   "source": [
    "ilkbahar = [['Mart', 31], ['Nisan', 30], ['Mayıs', 31]]\n",
    "\n",
    "yaz = [['Haziran', 30], ['Temmuz', 31], ['Ağustos', 31]]\n",
    "\n",
    "sonbahar = [['Eylül', 30], ['Ekim', 31], ['Kasım', 30]]\n",
    "\n",
    "kis = [['Aralık', 31], ['Ocak', 31], ['Şubat', 28]]\n",
    "\n",
    "mevsim_aylari = [ilkbahar, yaz, sonbahar, kis]"
   ]
  },
  {
   "cell_type": "markdown",
   "metadata": {},
   "source": [
    "**Cevap-5**"
   ]
  },
  {
   "cell_type": "code",
   "execution_count": 22,
   "metadata": {},
   "outputs": [
    {
     "name": "stdout",
     "output_type": "stream",
     "text": [
      "92\n"
     ]
    }
   ],
   "source": [
    "yazgunu = yaz [0][1]+yaz [1][1]+yaz [2][1]\n",
    "\n",
    "print(yazgunu)"
   ]
  }
 ],
 "metadata": {
  "kernelspec": {
   "display_name": "Python 3",
   "language": "python",
   "name": "python3"
  },
  "language_info": {
   "codemirror_mode": {
    "name": "ipython",
    "version": 3
   },
   "file_extension": ".py",
   "mimetype": "text/x-python",
   "name": "python",
   "nbconvert_exporter": "python",
   "pygments_lexer": "ipython3",
   "version": "3.6.5"
  }
 },
 "nbformat": 4,
 "nbformat_minor": 2
}

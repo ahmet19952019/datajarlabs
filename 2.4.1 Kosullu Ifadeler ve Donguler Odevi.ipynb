{
 "cells": [
  {
   "cell_type": "markdown",
   "metadata": {},
   "source": [
    "**Cevap-1**"
   ]
  },
  {
   "cell_type": "code",
   "execution_count": 14,
   "metadata": {},
   "outputs": [
    {
     "name": "stdout",
     "output_type": "stream",
     "text": [
      "Sicaklik biriminin ilk harfini giriniz: f\n",
      "Sicaklik degerini giriniz: 100\n",
      "100 derece Fahrenheit 37.77777777777778 derece Cantigrat'tir.\n"
     ]
    }
   ],
   "source": [
    "birim = input(\"Sicaklik biriminin ilk harfini giriniz: \")\n",
    "\n",
    "sicaklik = int(input(\"Sicaklik degerini giriniz: \"))\n",
    "\n",
    "if birim == 'c':\n",
    "    c = sicaklik\n",
    "    f = c * 9/5 + 32\n",
    "    print (\"%s derece Cantigrat %s derece Fahrenheit'tir.\" % (c, f))\n",
    "\n",
    "elif birim == \"f\":\n",
    "    f = sicaklik\n",
    "    c = (f - 32) * 5/9\n",
    "    print (\"%s derece Fahrenheit %s derece Cantigrat'tir.\" % (f, c))\n",
    "        "
   ]
  },
  {
   "cell_type": "markdown",
   "metadata": {},
   "source": [
    "**Cevap-2**"
   ]
  },
  {
   "cell_type": "code",
   "execution_count": 18,
   "metadata": {},
   "outputs": [
    {
     "name": "stdout",
     "output_type": "stream",
     "text": [
      "Kelimeyi giriniz:Maho\n",
      "ohaM\n"
     ]
    }
   ],
   "source": [
    "kelime = input (\"Kelimeyi giriniz:\")\n",
    "\n",
    "if kelime:\n",
    "    terskelime = kelime [::-1]\n",
    "    print(terskelime)"
   ]
  },
  {
   "cell_type": "markdown",
   "metadata": {},
   "source": [
    "**Cevap-3**"
   ]
  },
  {
   "cell_type": "code",
   "execution_count": 22,
   "metadata": {},
   "outputs": [
    {
     "name": "stdout",
     "output_type": "stream",
     "text": [
      "[1, 1, 2, 2, 3, 4, 5, 7, 9, 12, 16, 21, 28, 37, 49, 65, 86, 114, 151, 200, 265, 351, 465, 616, 816, 1081, 1432, 1897, 2513, 3329, 4410, 5842, 7739, 10252, 13581, 17991, 23833, 31572, 41824, 55405, 73396, 97229, 128801, 170625, 226030, 299426, 396655, 525456, 696081, 922111, 1221537, 1618192]\n"
     ]
    }
   ],
   "source": [
    "fibo = [1, 1]\n",
    "\n",
    "for i in range (1, 51):\n",
    "    fibo.append(fibo[i-1]+fibo[i-2])\n",
    "    \n",
    "print(fibo)"
   ]
  },
  {
   "cell_type": "markdown",
   "metadata": {},
   "source": [
    "**Cevap-4**"
   ]
  },
  {
   "cell_type": "code",
   "execution_count": 35,
   "metadata": {},
   "outputs": [
    {
     "name": "stdout",
     "output_type": "stream",
     "text": [
      "Carpim tablosu icin sayi giriniz:5\n",
      "5 x 1 = 5\n",
      "5 x 2 = 10\n",
      "5 x 3 = 15\n",
      "5 x 4 = 20\n",
      "5 x 5 = 25\n",
      "5 x 6 = 30\n",
      "5 x 7 = 35\n",
      "5 x 8 = 40\n",
      "5 x 9 = 45\n",
      "5 x 10 = 50\n"
     ]
    }
   ],
   "source": [
    "sayi = int(input (\"Carpim tablosu icin sayi giriniz:\"))\n",
    "\n",
    "for i in range (1, 11):\n",
    "    \n",
    "    yenisayi = sayi*i\n",
    "\n",
    "    print(sayi, \"x\", i, \"=\", yenisayi)"
   ]
  },
  {
   "cell_type": "markdown",
   "metadata": {},
   "source": [
    "**Cevap-5**"
   ]
  },
  {
   "cell_type": "code",
   "execution_count": 37,
   "metadata": {},
   "outputs": [
    {
     "name": "stdout",
     "output_type": "stream",
     "text": [
      "[1, 8, 9, 64, 25, 216, 49, 512, 81, 1000, 121, 1728, 169, 2744, 225, 4096, 289, 5832, 361, 8000]\n"
     ]
    }
   ],
   "source": [
    "kare_kup_liste = [x**3 if x%2==0 else x**2 for x in range (1,21)]\n",
    "\n",
    "print(kare_kup_liste)"
   ]
  }
 ],
 "metadata": {
  "kernelspec": {
   "display_name": "Python 3",
   "language": "python",
   "name": "python3"
  },
  "language_info": {
   "codemirror_mode": {
    "name": "ipython",
    "version": 3
   },
   "file_extension": ".py",
   "mimetype": "text/x-python",
   "name": "python",
   "nbconvert_exporter": "python",
   "pygments_lexer": "ipython3",
   "version": "3.6.5"
  }
 },
 "nbformat": 4,
 "nbformat_minor": 2
}
